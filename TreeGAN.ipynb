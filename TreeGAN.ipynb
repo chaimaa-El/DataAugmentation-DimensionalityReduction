{
  "cells": [
    {
      "cell_type": "markdown",
      "metadata": {
        "id": "ckYwHOcOrSTD"
      },
      "source": [
        "#Des fonctions utiles\n"
      ]
    },
    {
      "cell_type": "code",
      "execution_count": null,
      "metadata": {
        "id": "xjCNGtvFpkTr"
      },
      "outputs": [],
      "source": [
        "from glob import glob\n",
        "from natsort import natsorted\n",
        "import os\n",
        "import numpy as np \n",
        "import tensorflow as tf\n",
        "''' \n",
        "  Le module Functools est destiné aux fonctions d'ordre supérieur qui fonctionnent sur d'autres fonctions. \n",
        "\tIl fournit des fonctions pour travailler avec d'autres fonctions et des objets appelables pour les utiliser\n",
        "     ou les étendre sans les réécrire complètement.\n",
        "'''\n",
        "import functools\n",
        "#Generating 3D plots\n",
        "from mpl_toolkits import mplot3d\n",
        "import matplotlib.pyplot as plt\n",
        "\n",
        "batch_size = 16\n",
        "\n",
        "''' cat_dict['bathtub'] = 0 // path : string \n",
        "    X : Load arrays or pickled objects from .npy, .npz or pickled files\n",
        "    Y : indices des labels\n",
        "'''\n",
        "def fetch_data(path, cat_dict):\n",
        "\tpath = path.numpy().decode('utf-8') \n",
        "\tX    = np.load(path)\n",
        "\tY    = cat_dict[path.split(os.path.sep)[1]]\n",
        "\treturn X, Y\n",
        "'''\n",
        "  path :list des noms des fichier .npy\n",
        "  The batch size defines the number of samples that will be propagated through the network.\n",
        "'''\n",
        "def load_batch(path, batch_size=16):\n",
        "\treturn tf.data.Dataset.from_tensor_slices((path)).shuffle(len(path)).batch(batch_size, drop_remainder=True)\n",
        "'''\n",
        "'''\n",
        "def load_data(path, cat_dict):\n",
        "\tX, Y = list(zip(*map(functools.partial(fetch_data, cat_dict=cat_dict), path)))\n",
        "\tX    = tf.convert_to_tensor(X, dtype='float32')\n",
        "\tY    = tf.convert_to_tensor(Y, dtype='int32')\n",
        "\treturn X, Y\n",
        "\n",
        "def view_data(X, Y, cat_dict, rev_cat_dict):\n",
        "\tif not os.path.isdir('save_fig'):\n",
        "\t\tos.makedirs('save_fig')\n",
        "\n",
        "\tfor idx, (shape, cat) in enumerate(zip(X, Y)):\n",
        "\t\tshape = shape.numpy()\n",
        "\t\tcat   = cat.numpy()\n",
        "\t\tax    = plt.axes(projection='3d')\n",
        "\t\tax.scatter3D(shape[:, 0], shape[:, 1], shape[:, 2])\n",
        "\t\tplt.title('Category: {0}'.format(rev_cat_dict[cat]))\n",
        "\t\tplt.savefig('save_fig/{0}.png'.format(idx))\n",
        "\n",
        "def view_results(model, latent_dim, batch_size, categ, fileno):\n",
        "\tif not os.path.isdir('results'):\n",
        "\t\tos.makedirs('results/train/')\n",
        "\t\tos.makedirs('results/val/')\n",
        "\tidx   = np.random.randint(0, batch_size-1)\n",
        "\ttree  = [tf.random.uniform(shape=[batch_size, 1, latent_dim])]\n",
        "\tX     = model.gen(tree, training=False)[idx]\n",
        "\tax    = plt.axes(projection='3d')\n",
        "\tax.scatter3D(X[:, 0], X[:, 1], X[:, 2])\n",
        "\tplt.savefig('results/{0}/{1}.png'.format(categ, fileno))\n",
        "\treturn X"
      ]
    },
    {
      "cell_type": "markdown",
      "source": [
        "#Les fonctions de pertes"
      ],
      "metadata": {
        "id": "EF0PQ3osywHg"
      }
    },
    {
      "cell_type": "code",
      "source": [
        "#Si la prédiction du modèle est parfaite, la perte (loss) est nulle ; sinon, la perte est plus importante.\n",
        "import tensorflow as tf\n",
        "\n",
        "def gen_loss(D_fake):\n",
        "\treturn -tf.reduce_mean(D_fake)\n",
        "\n",
        "def critic_loss_gp(D_real, D_fake, Y, Y_cap, model, batch_size):\n",
        "\tdloss = tf.reduce_mean(D_fake) - tf.reduce_mean(D_real)\n",
        "\tlam   = 10\n",
        "\teps   = tf.random.uniform(shape=[batch_size, 1, 1], minval=0, maxval=1)\n",
        "\tx_cap = eps * Y + (1-eps) * Y_cap\n",
        "\twith tf.GradientTape() as gptape:\n",
        "\t\tgptape.watch(x_cap)\n",
        "\t\tout = model.critic(x_cap, training=True)\n",
        "\tgrad = gptape.gradient(out, x_cap)[0]\n",
        "\tgrad_norm = tf.sqrt(tf.reduce_sum(tf.square(grad), axis=[0, 1]))\n",
        "\tgrad_pen  = tf.reduce_mean((grad_norm - 1.0)**2)\n",
        "\tdloss = dloss + lam * grad_pen\n",
        "\treturn dloss"
      ],
      "metadata": {
        "id": "CPoKBJB2yziG"
      },
      "execution_count": null,
      "outputs": []
    },
    {
      "cell_type": "markdown",
      "metadata": {
        "id": "UDs-CcL3raaN"
      },
      "source": [
        "#Le model"
      ]
    },
    {
      "cell_type": "code",
      "source": [
        "import tensorflow as tf\n",
        "from tensorflow.keras import Model, layers "
      ],
      "metadata": {
        "id": "qgcGIBUQvZ5O"
      },
      "execution_count": null,
      "outputs": []
    },
    {
      "cell_type": "code",
      "source": [
        "# Tree-structured Graph Convolution Network\n",
        "class TreeGCN(Model):\n",
        "\tdef __init__(self, depth, child_node, degrees, filters, K=10, batch_size=8, upsample=True, activation=True):\n",
        "\t\tsuper(TreeGCN, self).__init__()\n",
        "\t\tself.depth         = depth\n",
        "\t\tself.batch_size    = batch_size\n",
        "\t\tself.child_node    = child_node\n",
        "\t\tself.input_feat    = filters[depth]\n",
        "\t\tself.out_feat      = filters[depth+1]\n",
        "\t\tself.degree        = degrees[depth]\n",
        "\t\tself.upsample      = upsample\n",
        "\t\tself.activation    = activation\n",
        "\t\tself.F_K           = [layers.Dense(units=K * self.input_feat), layers.Dense(units=self.out_feat)] # Loop\n",
        "\t\tself.W_A           = [layers.Dense(units=self.out_feat) for i in range(depth+1)] # Ancestor weights\n",
        "\t\tself.b             = tf.Variable(tf.initializers.GlorotUniform()(shape=[1, self.degree, self.out_feat]), name='Bias') # Xavier Initalization\n",
        "\t\tself.W_upsample    = tf.Variable(tf.initializers.GlorotUniform()(shape=[child_node, self.input_feat, self.degree*self.input_feat]), name='WeightMat') # Xavier Initalization\n",
        "\t\tself.act           = layers.LeakyReLU(alpha=0.2)\n",
        "\n",
        "\tdef call(self, tree):\n",
        "\t\tGath = 0 # Use for information gathering\n",
        "\t\t# Step 1: Accumulate information from ancestor\n",
        "\t\tfor layer_no in range(self.depth+1):\n",
        "\t\t\tanc_node   = tree[layer_no].shape[1]\n",
        "\t\t\trepeat_num = self.child_node // anc_node\n",
        "\t\t\tQ          = self.W_A[layer_no](tree[layer_no]) # Ancestors\n",
        "\t\t\t# print(layer_no, anc_node, self.child_node, repeat_num, tree[layer_no].shape, Q.shape, end=' ')\n",
        "\t\t\tGath       = Gath + tf.reshape(tf.tile(Q, [1, 1, repeat_num]), [self.batch_size, -1, self.out_feat]) # Gathering all the information\n",
        "\t\t\t# print(Gath.shape)\n",
        "\t\t# Step 2: Upsample the tree and Pass it through loop\n",
        "\t\tnext_level = 0 # Next level for tree\n",
        "\t\tif self.upsample:\n",
        "\t\t\tnext_level = tf.expand_dims(tree[-1], axis=2) @ self.W_upsample\n",
        "\t\t\tnext_level = self.act(next_level)\n",
        "\t\t\tnext_level = tf.reshape(next_level, [self.batch_size, self.child_node*self.degree, self.input_feat])\n",
        "\t\t\tnext_level = self.F_K[1]( self.F_K[0]( next_level ) )\n",
        "\t\t\tnext_level = next_level + tf.reshape(tf.tile(Gath, [1, 1, self.degree]), [self.batch_size, -1, self.out_feat])\n",
        "\t\telse:\n",
        "\t\t\tnext_level = self.F_K[1]( self.F_K[0]( tree[-1] ) )\n",
        "\t\t\tnext_level = next_level + Gath\n",
        "\t\t# Step 3: Add bias and Pass it through Activation function\n",
        "\t\tif self.activation:\n",
        "\t\t\t#\n",
        "\t\t\tnext_level = self.act(next_level + tf.tile(self.b, [1, self.child_node, 1]))\n",
        "\t\ttree.append(next_level)\n",
        "\t\treturn tree\n"
      ],
      "metadata": {
        "id": "C4mLEHEZvjoY"
      },
      "execution_count": null,
      "outputs": []
    },
    {
      "cell_type": "code",
      "source": [
        "class Generator(Model):\n",
        "\tdef __init__(self, K=10, latent_dim=96, batch_size=8):\n",
        "\t\tsuper(Generator, self).__init__()\n",
        "\t\tfilters         = [latent_dim, 256, 256, 256, 128, 128, 128,  3]\n",
        "\t\tdegrees         = [         1,   2,   2,   2,   2,   2,  64]\n",
        "\t\tself.depth      = len(filters) - 1\n",
        "\t\tself.tree_layer = []\n",
        "\t\tchild_node      = 1\n",
        "\t\tfor layer_no in range(self.depth):\n",
        "\t\t\tif layer_no == self.depth-1:\n",
        "\t\t\t\tself.tree_layer.append(TreeGCN(layer_no, child_node, degrees, filters, K=K, batch_size=batch_size, upsample=True, activation=False))\n",
        "\t\t\telse:\n",
        "\t\t\t\tself.tree_layer.append(TreeGCN(layer_no, child_node, degrees, filters, K=K, batch_size=batch_size, upsample=True, activation=True))\n",
        "\t\t\tchild_node  = child_node * degrees[layer_no]\n",
        "\n",
        "\tdef call(self, tree):\n",
        "\t\tfor layer_no in range(self.depth):\n",
        "\t\t\ttree = self.tree_layer[layer_no]( tree )\n",
        "\t\treturn tree[-1]"
      ],
      "metadata": {
        "id": "dfbMrJbgvqBn"
      },
      "execution_count": null,
      "outputs": []
    },
    {
      "cell_type": "code",
      "source": [
        "class Critic(Model):\n",
        "\tdef __init__(self):\n",
        "\t\tsuper(Critic, self).__init__()\n",
        "\t\tfilters          = [3, 64,128,256,512,1024]\n",
        "\t\tunits            = [128, 64]\n",
        "\t\tself.cnn_depth   = len(filters)\n",
        "\t\tself.fc_depth    = len(units)\n",
        "\t\tself.cnn_conv    = [layers.Conv1D(filters=filters[i], kernel_size=1, strides=1, padding='same') for i in range(self.cnn_depth)]\n",
        "\t\tself.cnn_act     = [layers.LeakyReLU(alpha=0.2) for _ in range(self.cnn_depth)]\n",
        "\t\tself.global_pool = layers.GlobalMaxPooling1D()\n",
        "\t\tself.flat        = layers.Flatten()\n",
        "\t\tself.fc          = [layers.Dense(units=units[i]) for i in range(self.fc_depth)]\n",
        "\t\t#f(x) = alpha *x if x<0 ;f(x) if x>=0\n",
        "\t\tself.fc_act      = [layers.LeakyReLU(alpha=0.2) for _ in range(self.fc_depth)]\n",
        "\t\tself.fc_final    = layers.Dense(units=1)\n",
        "\n",
        "\tdef call(self, x):\n",
        "\t\tfor layer_no in range(self.cnn_depth):\n",
        "\t\t\tx = self.cnn_act[layer_no]( self.cnn_conv[layer_no]( x ) )\n",
        "\t\tx = self.global_pool(x)\n",
        "\t\tx = self.flat(x)\n",
        "\t\tfor layer_no in range(self.fc_depth):\n",
        "\t\t\tx = self.fc_act[layer_no]( self.fc[layer_no]( x ) )\n",
        "\t\tx = self.fc_final(x)\n",
        "\t\treturn x"
      ],
      "metadata": {
        "id": "QQR9nBj4vwwt"
      },
      "execution_count": null,
      "outputs": []
    },
    {
      "cell_type": "code",
      "execution_count": null,
      "metadata": {
        "id": "9pw1eGiCrPC6"
      },
      "outputs": [],
      "source": [
        "class TreeGAN(Model):\n",
        "\tdef __init__(self, K=10, latent_dim=96, batch_size=8):\n",
        "\t\tsuper(TreeGAN, self).__init__()\n",
        "\t  #Generator\n",
        "\t\tself.gen    = Generator(K=K, latent_dim=latent_dim, batch_size=batch_size)\n",
        "\t  #Critic\n",
        "\t\tself.critic = Critic()\n",
        "\n",
        "def train_step(model, gen_opt, critic_opt, X, latent_dim, batch_size):\n",
        "\tcritic_train = 5\n",
        "\tfor _ in range(critic_train):\n",
        "\t\twith tf.GradientTape() as ctape:\n",
        "\t\t\ttree       = [tf.random.uniform(shape=[batch_size, 1, latent_dim])]\n",
        "\t\t\tfake_point = model.gen(tree, training=False)\n",
        "\t\t\tD_real     = model.critic(X, training=True)\n",
        "\t\t\tD_fake     = model.critic(fake_point, training=True)\n",
        "\t     #loss generated points \n",
        "\t\t\tcloss      = critic_loss_gp(D_real, D_fake, X, fake_point, model, batch_size)\n",
        "\t\tvariables = model.critic.trainable_variables\n",
        "\t\tgradients = ctape.gradient(closs, variables)\n",
        "\t\tcritic_opt.apply_gradients(zip(gradients, variables))\n",
        "\n",
        "\twith tf.GradientTape() as gtape:\n",
        "\t\ttree       = [tf.random.uniform(shape=[batch_size, 1, latent_dim])]\n",
        "\t\tfake_point = model.gen(tree, training=True)\n",
        "\t\tD_fake     = model.critic(fake_point, training=False)\n",
        "\t\tgloss      = gen_loss(D_fake)\n",
        "\tvariables = model.gen.trainable_variables\n",
        "\tgradients = gtape.gradient(gloss, variables)\n",
        "\tgen_opt.apply_gradients(zip(gradients, variables))\n",
        "\n",
        "\treturn gloss, closs\n",
        "\n",
        "def val_step(model, X, latent_dim, batch_size):\n",
        "\ttree       = [tf.random.uniform(shape=[batch_size, 1, latent_dim])]\n",
        "\tfake_point = model.gen(tree, training=False)\n",
        "\tD_fake     = model.critic(fake_point, training=False)\n",
        "\tgloss      = gen_loss(D_fake)\n",
        "\treturn gloss"
      ]
    },
    {
      "cell_type": "markdown",
      "metadata": {
        "id": "DTzBpCSfuhPL"
      },
      "source": [
        "#Exécution\n"
      ]
    },
    {
      "cell_type": "code",
      "execution_count": null,
      "metadata": {
        "colab": {
          "base_uri": "https://localhost:8080/"
        },
        "id": "A37zII4SpWcn",
        "outputId": "d14aeef2-862e-4e79-b4c4-eb330127f629"
      },
      "outputs": [
        {
          "metadata": {
            "tags": null
          },
          "name": "stderr",
          "output_type": "stream",
          "text": [
            "/usr/local/lib/python3.7/dist-packages/keras/optimizer_v2/adam.py:105: UserWarning: The `lr` argument is deprecated, use `learning_rate` instead.\n",
            "  super(Adam, self).__init__(name, **kwargs)\n",
            "  0%|          | 0/24 [00:00<?, ?it/s]"
          ]
        },
        {
          "metadata": {
            "tags": null
          },
          "name": "stdout",
          "output_type": "stream",
          "text": [
            "WARNING:tensorflow:Gradients do not exist for variables ['Bias:0'] when minimizing the loss. If you're using `model.compile()`, did you forget to provide a `loss`argument?\n"
          ]
        },
        {
          "metadata": {
            "tags": null
          },
          "name": "stderr",
          "output_type": "stream",
          "text": [
            "\r  4%|▍         | 1/24 [01:19<30:36, 79.86s/it]"
          ]
        },
        {
          "metadata": {
            "tags": null
          },
          "name": "stdout",
          "output_type": "stream",
          "text": [
            "Train_GLoss: 0.5272525548934937\tTrain_CLoss: 8.671030044555664\n",
            "WARNING:tensorflow:Gradients do not exist for variables ['Bias:0'] when minimizing the loss. If you're using `model.compile()`, did you forget to provide a `loss`argument?\n"
          ]
        },
        {
          "metadata": {
            "tags": null
          },
          "name": "stderr",
          "output_type": "stream",
          "text": [
            "\r  8%|▊         | 2/24 [02:46<30:44, 83.86s/it]"
          ]
        },
        {
          "metadata": {
            "tags": null
          },
          "name": "stdout",
          "output_type": "stream",
          "text": [
            "Train_GLoss: 0.05438323691487312\tTrain_CLoss: 7.647877216339111\n",
            "WARNING:tensorflow:Gradients do not exist for variables ['Bias:0'] when minimizing the loss. If you're using `model.compile()`, did you forget to provide a `loss`argument?\n"
          ]
        },
        {
          "metadata": {
            "tags": null
          },
          "name": "stderr",
          "output_type": "stream",
          "text": [
            "\r 12%|█▎        | 3/24 [04:01<27:51, 79.59s/it]"
          ]
        },
        {
          "metadata": {
            "tags": null
          },
          "name": "stdout",
          "output_type": "stream",
          "text": [
            "Train_GLoss: -0.27708229422569275\tTrain_CLoss: 9.162877082824707\n",
            "WARNING:tensorflow:Gradients do not exist for variables ['Bias:0'] when minimizing the loss. If you're using `model.compile()`, did you forget to provide a `loss`argument?\n"
          ]
        },
        {
          "metadata": {
            "tags": null
          },
          "name": "stderr",
          "output_type": "stream",
          "text": [
            "\r 17%|█▋        | 4/24 [05:14<25:44, 77.24s/it]"
          ]
        },
        {
          "metadata": {
            "tags": null
          },
          "name": "stdout",
          "output_type": "stream",
          "text": [
            "Train_GLoss: -0.5348025560379028\tTrain_CLoss: 8.74669075012207\n",
            "WARNING:tensorflow:Gradients do not exist for variables ['Bias:0'] when minimizing the loss. If you're using `model.compile()`, did you forget to provide a `loss`argument?\n"
          ]
        },
        {
          "metadata": {
            "tags": null
          },
          "name": "stderr",
          "output_type": "stream",
          "text": [
            "\r 21%|██        | 5/24 [06:35<24:53, 78.60s/it]"
          ]
        },
        {
          "metadata": {
            "tags": null
          },
          "name": "stdout",
          "output_type": "stream",
          "text": [
            "Train_GLoss: -1.0386359691619873\tTrain_CLoss: 8.897284507751465\n",
            "WARNING:tensorflow:Gradients do not exist for variables ['Bias:0'] when minimizing the loss. If you're using `model.compile()`, did you forget to provide a `loss`argument?\n"
          ]
        },
        {
          "metadata": {
            "tags": null
          },
          "name": "stderr",
          "output_type": "stream",
          "text": [
            "\r 25%|██▌       | 6/24 [07:49<23:08, 77.13s/it]"
          ]
        },
        {
          "metadata": {
            "tags": null
          },
          "name": "stdout",
          "output_type": "stream",
          "text": [
            "Train_GLoss: -1.5407016277313232\tTrain_CLoss: 9.261374473571777\n",
            "WARNING:tensorflow:Gradients do not exist for variables ['Bias:0'] when minimizing the loss. If you're using `model.compile()`, did you forget to provide a `loss`argument?\n"
          ]
        },
        {
          "metadata": {
            "tags": null
          },
          "name": "stderr",
          "output_type": "stream",
          "text": [
            "\r 29%|██▉       | 7/24 [09:04<21:38, 76.35s/it]"
          ]
        },
        {
          "metadata": {
            "tags": null
          },
          "name": "stdout",
          "output_type": "stream",
          "text": [
            "Train_GLoss: -0.07377443462610245\tTrain_CLoss: 8.889351844787598\n",
            "WARNING:tensorflow:Gradients do not exist for variables ['Bias:0'] when minimizing the loss. If you're using `model.compile()`, did you forget to provide a `loss`argument?\n"
          ]
        },
        {
          "metadata": {
            "tags": null
          },
          "name": "stderr",
          "output_type": "stream",
          "text": [
            "\r 33%|███▎      | 8/24 [10:23<20:32, 77.01s/it]"
          ]
        },
        {
          "metadata": {
            "tags": null
          },
          "name": "stdout",
          "output_type": "stream",
          "text": [
            "Train_GLoss: 4.318528175354004\tTrain_CLoss: 4.356825828552246\n",
            "WARNING:tensorflow:Gradients do not exist for variables ['Bias:0'] when minimizing the loss. If you're using `model.compile()`, did you forget to provide a `loss`argument?\n"
          ]
        },
        {
          "metadata": {
            "tags": null
          },
          "name": "stderr",
          "output_type": "stream",
          "text": [
            "\r 38%|███▊      | 9/24 [11:39<19:13, 76.93s/it]"
          ]
        },
        {
          "metadata": {
            "tags": null
          },
          "name": "stdout",
          "output_type": "stream",
          "text": [
            "Train_GLoss: 8.199774742126465\tTrain_CLoss: -2.368213653564453\n",
            "WARNING:tensorflow:Gradients do not exist for variables ['Bias:0'] when minimizing the loss. If you're using `model.compile()`, did you forget to provide a `loss`argument?\n"
          ]
        },
        {
          "metadata": {
            "tags": null
          },
          "name": "stderr",
          "output_type": "stream",
          "text": [
            "\r 42%|████▏     | 10/24 [12:54<17:45, 76.09s/it]"
          ]
        },
        {
          "metadata": {
            "tags": null
          },
          "name": "stdout",
          "output_type": "stream",
          "text": [
            "Train_GLoss: 10.169764518737793\tTrain_CLoss: -6.47946310043335\n",
            "WARNING:tensorflow:Gradients do not exist for variables ['Bias:0'] when minimizing the loss. If you're using `model.compile()`, did you forget to provide a `loss`argument?\n"
          ]
        },
        {
          "metadata": {
            "tags": null
          },
          "name": "stderr",
          "output_type": "stream",
          "text": [
            "\r 46%|████▌     | 11/24 [14:09<16:24, 75.75s/it]"
          ]
        },
        {
          "metadata": {
            "tags": null
          },
          "name": "stdout",
          "output_type": "stream",
          "text": [
            "Train_GLoss: 8.520740509033203\tTrain_CLoss: -5.879451751708984\n",
            "WARNING:tensorflow:Gradients do not exist for variables ['Bias:0'] when minimizing the loss. If you're using `model.compile()`, did you forget to provide a `loss`argument?\n"
          ]
        },
        {
          "metadata": {
            "tags": null
          },
          "name": "stderr",
          "output_type": "stream",
          "text": [
            "\r 50%|█████     | 12/24 [15:23<15:04, 75.40s/it]"
          ]
        },
        {
          "metadata": {
            "tags": null
          },
          "name": "stdout",
          "output_type": "stream",
          "text": [
            "Train_GLoss: 6.68870210647583\tTrain_CLoss: -4.961358070373535\n",
            "WARNING:tensorflow:Gradients do not exist for variables ['Bias:0'] when minimizing the loss. If you're using `model.compile()`, did you forget to provide a `loss`argument?\n"
          ]
        },
        {
          "metadata": {
            "tags": null
          },
          "name": "stderr",
          "output_type": "stream",
          "text": [
            "\r 54%|█████▍    | 13/24 [16:45<14:09, 77.22s/it]"
          ]
        },
        {
          "metadata": {
            "tags": null
          },
          "name": "stdout",
          "output_type": "stream",
          "text": [
            "Train_GLoss: 6.0971174240112305\tTrain_CLoss: -3.9752755165100098\n",
            "WARNING:tensorflow:Gradients do not exist for variables ['Bias:0'] when minimizing the loss. If you're using `model.compile()`, did you forget to provide a `loss`argument?\n"
          ]
        },
        {
          "metadata": {
            "tags": null
          },
          "name": "stderr",
          "output_type": "stream",
          "text": [
            "\r 58%|█████▊    | 14/24 [18:00<12:48, 76.81s/it]"
          ]
        },
        {
          "metadata": {
            "tags": null
          },
          "name": "stdout",
          "output_type": "stream",
          "text": [
            "Train_GLoss: 3.4382288455963135\tTrain_CLoss: -1.978814959526062\n",
            "WARNING:tensorflow:Gradients do not exist for variables ['Bias:0'] when minimizing the loss. If you're using `model.compile()`, did you forget to provide a `loss`argument?\n"
          ]
        },
        {
          "metadata": {
            "tags": null
          },
          "name": "stderr",
          "output_type": "stream",
          "text": [
            "\r 62%|██████▎   | 15/24 [19:15<11:26, 76.23s/it]"
          ]
        },
        {
          "metadata": {
            "tags": null
          },
          "name": "stdout",
          "output_type": "stream",
          "text": [
            "Train_GLoss: 2.0046706199645996\tTrain_CLoss: -1.2521147727966309\n",
            "WARNING:tensorflow:Gradients do not exist for variables ['Bias:0'] when minimizing the loss. If you're using `model.compile()`, did you forget to provide a `loss`argument?\n"
          ]
        },
        {
          "metadata": {
            "tags": null
          },
          "name": "stderr",
          "output_type": "stream",
          "text": [
            "\r 67%|██████▋   | 16/24 [20:31<10:09, 76.18s/it]"
          ]
        },
        {
          "metadata": {
            "tags": null
          },
          "name": "stdout",
          "output_type": "stream",
          "text": [
            "Train_GLoss: 3.2717812061309814\tTrain_CLoss: 1.2000865936279297\n",
            "WARNING:tensorflow:Gradients do not exist for variables ['Bias:0'] when minimizing the loss. If you're using `model.compile()`, did you forget to provide a `loss`argument?\n"
          ]
        },
        {
          "metadata": {
            "tags": null
          },
          "name": "stderr",
          "output_type": "stream",
          "text": [
            "\r 71%|███████   | 17/24 [21:46<08:50, 75.83s/it]"
          ]
        },
        {
          "metadata": {
            "tags": null
          },
          "name": "stdout",
          "output_type": "stream",
          "text": [
            "Train_GLoss: 1.141906976699829\tTrain_CLoss: -0.3820396065711975\n",
            "WARNING:tensorflow:Gradients do not exist for variables ['Bias:0'] when minimizing the loss. If you're using `model.compile()`, did you forget to provide a `loss`argument?\n"
          ]
        },
        {
          "metadata": {
            "tags": null
          },
          "name": "stderr",
          "output_type": "stream",
          "text": [
            "\r 75%|███████▌  | 18/24 [23:02<07:35, 75.91s/it]"
          ]
        },
        {
          "metadata": {
            "tags": null
          },
          "name": "stdout",
          "output_type": "stream",
          "text": [
            "Train_GLoss: 1.298616886138916\tTrain_CLoss: -0.4568827450275421\n",
            "WARNING:tensorflow:Gradients do not exist for variables ['Bias:0'] when minimizing the loss. If you're using `model.compile()`, did you forget to provide a `loss`argument?\n"
          ]
        },
        {
          "metadata": {
            "tags": null
          },
          "name": "stderr",
          "output_type": "stream",
          "text": [
            "\r 79%|███████▉  | 19/24 [24:17<06:17, 75.56s/it]"
          ]
        },
        {
          "metadata": {
            "tags": null
          },
          "name": "stdout",
          "output_type": "stream",
          "text": [
            "Train_GLoss: 1.3557500839233398\tTrain_CLoss: -0.8537947535514832\n",
            "WARNING:tensorflow:Gradients do not exist for variables ['Bias:0'] when minimizing the loss. If you're using `model.compile()`, did you forget to provide a `loss`argument?\n"
          ]
        },
        {
          "metadata": {
            "tags": null
          },
          "name": "stderr",
          "output_type": "stream",
          "text": [
            "\r 83%|████████▎ | 20/24 [25:33<05:02, 75.52s/it]"
          ]
        },
        {
          "metadata": {
            "tags": null
          },
          "name": "stdout",
          "output_type": "stream",
          "text": [
            "Train_GLoss: 1.5616886615753174\tTrain_CLoss: 0.03932356834411621\n",
            "WARNING:tensorflow:Gradients do not exist for variables ['Bias:0'] when minimizing the loss. If you're using `model.compile()`, did you forget to provide a `loss`argument?\n"
          ]
        },
        {
          "metadata": {
            "tags": null
          },
          "name": "stderr",
          "output_type": "stream",
          "text": [
            "\r 88%|████████▊ | 21/24 [26:55<03:52, 77.48s/it]"
          ]
        },
        {
          "metadata": {
            "tags": null
          },
          "name": "stdout",
          "output_type": "stream",
          "text": [
            "Train_GLoss: 1.4298303127288818\tTrain_CLoss: -0.36067086458206177\n",
            "WARNING:tensorflow:Gradients do not exist for variables ['Bias:0'] when minimizing the loss. If you're using `model.compile()`, did you forget to provide a `loss`argument?\n"
          ]
        },
        {
          "metadata": {
            "tags": null
          },
          "name": "stderr",
          "output_type": "stream",
          "text": [
            "\r 92%|█████████▏| 22/24 [28:11<02:34, 77.17s/it]"
          ]
        },
        {
          "metadata": {
            "tags": null
          },
          "name": "stdout",
          "output_type": "stream",
          "text": [
            "Train_GLoss: 1.5467429161071777\tTrain_CLoss: -1.0502475500106812\n",
            "WARNING:tensorflow:Gradients do not exist for variables ['Bias:0'] when minimizing the loss. If you're using `model.compile()`, did you forget to provide a `loss`argument?\n"
          ]
        },
        {
          "metadata": {
            "tags": null
          },
          "name": "stderr",
          "output_type": "stream",
          "text": [
            "\r 96%|█████████▌| 23/24 [29:26<01:16, 76.49s/it]"
          ]
        },
        {
          "metadata": {
            "tags": null
          },
          "name": "stdout",
          "output_type": "stream",
          "text": [
            "Train_GLoss: 1.6203656196594238\tTrain_CLoss: -0.6431740522384644\n",
            "WARNING:tensorflow:Gradients do not exist for variables ['Bias:0'] when minimizing the loss. If you're using `model.compile()`, did you forget to provide a `loss`argument?\n"
          ]
        },
        {
          "metadata": {
            "tags": null
          },
          "name": "stderr",
          "output_type": "stream",
          "text": [
            "\r100%|██████████| 24/24 [30:42<00:00, 76.32s/it]"
          ]
        },
        {
          "metadata": {
            "tags": null
          },
          "name": "stdout",
          "output_type": "stream",
          "text": [
            "Train_GLoss: 1.4099925756454468\tTrain_CLoss: -0.3234284222126007\n"
          ]
        },
        {
          "metadata": {
            "tags": null
          },
          "name": "stderr",
          "output_type": "stream",
          "text": [
            "100%|██████████| 24/24 [31:21<00:00, 78.41s/it]\n",
            " 17%|█▋        | 1/6 [00:01<00:07,  1.42s/it]"
          ]
        },
        {
          "metadata": {
            "tags": null
          },
          "name": "stdout",
          "output_type": "stream",
          "text": [
            "Val_GLoss: 2.369830369949341\n"
          ]
        },
        {
          "metadata": {
            "tags": null
          },
          "name": "stderr",
          "output_type": "stream",
          "text": [
            "\r 33%|███▎      | 2/6 [00:02<00:05,  1.41s/it]"
          ]
        },
        {
          "metadata": {
            "tags": null
          },
          "name": "stdout",
          "output_type": "stream",
          "text": [
            "Val_GLoss: 1.7939692735671997\n"
          ]
        },
        {
          "metadata": {
            "tags": null
          },
          "name": "stderr",
          "output_type": "stream",
          "text": [
            "\r 50%|█████     | 3/6 [00:04<00:04,  1.41s/it]"
          ]
        },
        {
          "metadata": {
            "tags": null
          },
          "name": "stdout",
          "output_type": "stream",
          "text": [
            "Val_GLoss: 2.1801700592041016\n"
          ]
        },
        {
          "metadata": {
            "tags": null
          },
          "name": "stderr",
          "output_type": "stream",
          "text": [
            "\r 67%|██████▋   | 4/6 [00:05<00:02,  1.41s/it]"
          ]
        },
        {
          "metadata": {
            "tags": null
          },
          "name": "stdout",
          "output_type": "stream",
          "text": [
            "Val_GLoss: 1.9718387126922607\n"
          ]
        },
        {
          "metadata": {
            "tags": null
          },
          "name": "stderr",
          "output_type": "stream",
          "text": [
            "\r 83%|████████▎ | 5/6 [00:07<00:01,  1.40s/it]"
          ]
        },
        {
          "metadata": {
            "tags": null
          },
          "name": "stdout",
          "output_type": "stream",
          "text": [
            "Val_GLoss: 2.043328046798706\n"
          ]
        },
        {
          "metadata": {
            "tags": null
          },
          "name": "stderr",
          "output_type": "stream",
          "text": [
            "100%|██████████| 6/6 [00:08<00:00,  1.41s/it]\n"
          ]
        },
        {
          "metadata": {
            "tags": null
          },
          "name": "stdout",
          "output_type": "stream",
          "text": [
            "Val_GLoss: 1.716538667678833\n",
            "Epoch: 1\tTrain_GLoss: 2.5496182441711426\tTrain_CLoss: 1.496158242225647\tVal_GLoss: 2.0126125812530518\n"
          ]
        },
        {
          "metadata": {
            "tags": null
          },
          "name": "stderr",
          "output_type": "stream",
          "text": [
            "\r  0%|          | 0/24 [00:00<?, ?it/s]"
          ]
        },
        {
          "metadata": {
            "tags": null
          },
          "name": "stdout",
          "output_type": "stream",
          "text": [
            "WARNING:tensorflow:Gradients do not exist for variables ['Bias:0'] when minimizing the loss. If you're using `model.compile()`, did you forget to provide a `loss`argument?\n"
          ]
        },
        {
          "metadata": {
            "tags": null
          },
          "name": "stderr",
          "output_type": "stream",
          "text": [
            "\r  4%|▍         | 1/24 [01:15<28:56, 75.48s/it]"
          ]
        },
        {
          "metadata": {
            "tags": null
          },
          "name": "stdout",
          "output_type": "stream",
          "text": [
            "Train_GLoss: 1.6572744846343994\tTrain_CLoss: 0.7919842004776001\n",
            "WARNING:tensorflow:Gradients do not exist for variables ['Bias:0'] when minimizing the loss. If you're using `model.compile()`, did you forget to provide a `loss`argument?\n"
          ]
        },
        {
          "metadata": {
            "tags": null
          },
          "name": "stderr",
          "output_type": "stream",
          "text": [
            "\r  8%|▊         | 2/24 [02:29<27:23, 74.71s/it]"
          ]
        },
        {
          "metadata": {
            "tags": null
          },
          "name": "stdout",
          "output_type": "stream",
          "text": [
            "Train_GLoss: 0.994015634059906\tTrain_CLoss: -0.5033340454101562\n",
            "WARNING:tensorflow:Gradients do not exist for variables ['Bias:0'] when minimizing the loss. If you're using `model.compile()`, did you forget to provide a `loss`argument?\n"
          ]
        },
        {
          "metadata": {
            "tags": null
          },
          "name": "stderr",
          "output_type": "stream",
          "text": [
            "\r 12%|█▎        | 3/24 [03:46<26:24, 75.47s/it]"
          ]
        },
        {
          "metadata": {
            "tags": null
          },
          "name": "stdout",
          "output_type": "stream",
          "text": [
            "Train_GLoss: 1.5414602756500244\tTrain_CLoss: -1.224576473236084\n",
            "WARNING:tensorflow:Gradients do not exist for variables ['Bias:0'] when minimizing the loss. If you're using `model.compile()`, did you forget to provide a `loss`argument?\n"
          ]
        },
        {
          "metadata": {
            "tags": null
          },
          "name": "stderr",
          "output_type": "stream",
          "text": [
            "\r 17%|█▋        | 4/24 [05:05<25:42, 77.13s/it]"
          ]
        },
        {
          "metadata": {
            "tags": null
          },
          "name": "stdout",
          "output_type": "stream",
          "text": [
            "Train_GLoss: 0.9222843647003174\tTrain_CLoss: 9.320054054260254\n",
            "WARNING:tensorflow:Gradients do not exist for variables ['Bias:0'] when minimizing the loss. If you're using `model.compile()`, did you forget to provide a `loss`argument?\n"
          ]
        },
        {
          "metadata": {
            "tags": null
          },
          "name": "stderr",
          "output_type": "stream",
          "text": [
            "\r 21%|██        | 5/24 [06:21<24:15, 76.59s/it]"
          ]
        },
        {
          "output_type": "stream",
          "name": "stdout",
          "text": [
            "Train_GLoss: 0.47211357951164246\tTrain_CLoss: 1.4391169548034668\n",
            "WARNING:tensorflow:Gradients do not exist for variables ['Bias:0'] when minimizing the loss. If you're using `model.compile()`, did you forget to provide a `loss`argument?\n"
          ]
        },
        {
          "output_type": "stream",
          "name": "stderr",
          "text": [
            "\r 25%|██▌       | 6/24 [07:35<22:42, 75.67s/it]"
          ]
        },
        {
          "output_type": "stream",
          "name": "stdout",
          "text": [
            "Train_GLoss: 0.6987543106079102\tTrain_CLoss: 0.6736683249473572\n",
            "WARNING:tensorflow:Gradients do not exist for variables ['Bias:0'] when minimizing the loss. If you're using `model.compile()`, did you forget to provide a `loss`argument?\n"
          ]
        },
        {
          "output_type": "stream",
          "name": "stderr",
          "text": [
            "\r 29%|██▉       | 7/24 [08:49<21:17, 75.15s/it]"
          ]
        },
        {
          "output_type": "stream",
          "name": "stdout",
          "text": [
            "Train_GLoss: 0.6506024599075317\tTrain_CLoss: 1.213775873184204\n",
            "WARNING:tensorflow:Gradients do not exist for variables ['Bias:0'] when minimizing the loss. If you're using `model.compile()`, did you forget to provide a `loss`argument?\n"
          ]
        },
        {
          "output_type": "stream",
          "name": "stderr",
          "text": [
            "\r 33%|███▎      | 8/24 [10:02<19:53, 74.61s/it]"
          ]
        },
        {
          "output_type": "stream",
          "name": "stdout",
          "text": [
            "Train_GLoss: 0.9668763875961304\tTrain_CLoss: 1.3997220993041992\n",
            "WARNING:tensorflow:Gradients do not exist for variables ['Bias:0'] when minimizing the loss. If you're using `model.compile()`, did you forget to provide a `loss`argument?\n"
          ]
        },
        {
          "output_type": "stream",
          "name": "stderr",
          "text": [
            "\r 38%|███▊      | 9/24 [11:18<18:42, 74.85s/it]"
          ]
        },
        {
          "output_type": "stream",
          "name": "stdout",
          "text": [
            "Train_GLoss: 0.678512454032898\tTrain_CLoss: -0.5438613295555115\n",
            "WARNING:tensorflow:Gradients do not exist for variables ['Bias:0'] when minimizing the loss. If you're using `model.compile()`, did you forget to provide a `loss`argument?\n"
          ]
        },
        {
          "output_type": "stream",
          "name": "stderr",
          "text": [
            "\r 42%|████▏     | 10/24 [12:31<17:22, 74.46s/it]"
          ]
        },
        {
          "output_type": "stream",
          "name": "stdout",
          "text": [
            "Train_GLoss: 1.079725980758667\tTrain_CLoss: 1.1989871263504028\n",
            "WARNING:tensorflow:Gradients do not exist for variables ['Bias:0'] when minimizing the loss. If you're using `model.compile()`, did you forget to provide a `loss`argument?\n"
          ]
        },
        {
          "output_type": "stream",
          "name": "stderr",
          "text": [
            "\r 46%|████▌     | 11/24 [13:48<16:18, 75.29s/it]"
          ]
        },
        {
          "output_type": "stream",
          "name": "stdout",
          "text": [
            "Train_GLoss: 1.1330457925796509\tTrain_CLoss: 5.072500228881836\n",
            "WARNING:tensorflow:Gradients do not exist for variables ['Bias:0'] when minimizing the loss. If you're using `model.compile()`, did you forget to provide a `loss`argument?\n"
          ]
        },
        {
          "output_type": "stream",
          "name": "stderr",
          "text": [
            "\r 50%|█████     | 12/24 [15:11<15:28, 77.41s/it]"
          ]
        },
        {
          "output_type": "stream",
          "name": "stdout",
          "text": [
            "Train_GLoss: 1.0993717908859253\tTrain_CLoss: 1.3940255641937256\n",
            "WARNING:tensorflow:Gradients do not exist for variables ['Bias:0'] when minimizing the loss. If you're using `model.compile()`, did you forget to provide a `loss`argument?\n"
          ]
        },
        {
          "output_type": "stream",
          "name": "stderr",
          "text": [
            "\r 54%|█████▍    | 13/24 [16:24<13:59, 76.28s/it]"
          ]
        },
        {
          "output_type": "stream",
          "name": "stdout",
          "text": [
            "Train_GLoss: 0.7443037033081055\tTrain_CLoss: -0.3483225107192993\n",
            "WARNING:tensorflow:Gradients do not exist for variables ['Bias:0'] when minimizing the loss. If you're using `model.compile()`, did you forget to provide a `loss`argument?\n"
          ]
        },
        {
          "output_type": "stream",
          "name": "stderr",
          "text": [
            "\r 58%|█████▊    | 14/24 [17:39<12:36, 75.68s/it]"
          ]
        },
        {
          "output_type": "stream",
          "name": "stdout",
          "text": [
            "Train_GLoss: 0.34380173683166504\tTrain_CLoss: 0.8975162506103516\n",
            "WARNING:tensorflow:Gradients do not exist for variables ['Bias:0'] when minimizing the loss. If you're using `model.compile()`, did you forget to provide a `loss`argument?\n"
          ]
        },
        {
          "output_type": "stream",
          "name": "stderr",
          "text": [
            "\r 62%|██████▎   | 15/24 [18:52<11:15, 75.07s/it]"
          ]
        },
        {
          "output_type": "stream",
          "name": "stdout",
          "text": [
            "Train_GLoss: 0.4445134997367859\tTrain_CLoss: 0.9569856524467468\n",
            "WARNING:tensorflow:Gradients do not exist for variables ['Bias:0'] when minimizing the loss. If you're using `model.compile()`, did you forget to provide a `loss`argument?\n"
          ]
        },
        {
          "output_type": "stream",
          "name": "stderr",
          "text": [
            "\r 67%|██████▋   | 16/24 [20:07<09:58, 74.85s/it]"
          ]
        },
        {
          "output_type": "stream",
          "name": "stdout",
          "text": [
            "Train_GLoss: 0.42720288038253784\tTrain_CLoss: 1.0509542226791382\n",
            "WARNING:tensorflow:Gradients do not exist for variables ['Bias:0'] when minimizing the loss. If you're using `model.compile()`, did you forget to provide a `loss`argument?\n"
          ]
        },
        {
          "output_type": "stream",
          "name": "stderr",
          "text": [
            "\r 71%|███████   | 17/24 [21:20<08:41, 74.50s/it]"
          ]
        },
        {
          "output_type": "stream",
          "name": "stdout",
          "text": [
            "Train_GLoss: 0.7487943172454834\tTrain_CLoss: 3.149803400039673\n",
            "WARNING:tensorflow:Gradients do not exist for variables ['Bias:0'] when minimizing the loss. If you're using `model.compile()`, did you forget to provide a `loss`argument?\n"
          ]
        },
        {
          "output_type": "stream",
          "name": "stderr",
          "text": [
            "\r 75%|███████▌  | 18/24 [22:34<07:26, 74.39s/it]"
          ]
        },
        {
          "output_type": "stream",
          "name": "stdout",
          "text": [
            "Train_GLoss: 0.5337771773338318\tTrain_CLoss: 1.1286544799804688\n",
            "WARNING:tensorflow:Gradients do not exist for variables ['Bias:0'] when minimizing the loss. If you're using `model.compile()`, did you forget to provide a `loss`argument?\n"
          ]
        },
        {
          "output_type": "stream",
          "name": "stderr",
          "text": [
            "\r 79%|███████▉  | 19/24 [23:48<06:11, 74.20s/it]"
          ]
        },
        {
          "output_type": "stream",
          "name": "stdout",
          "text": [
            "Train_GLoss: 0.8041459321975708\tTrain_CLoss: 3.3247861862182617\n",
            "WARNING:tensorflow:Gradients do not exist for variables ['Bias:0'] when minimizing the loss. If you're using `model.compile()`, did you forget to provide a `loss`argument?\n"
          ]
        },
        {
          "output_type": "stream",
          "name": "stderr",
          "text": [
            "\r 83%|████████▎ | 20/24 [25:08<05:03, 75.91s/it]"
          ]
        },
        {
          "output_type": "stream",
          "name": "stdout",
          "text": [
            "Train_GLoss: 0.6288512945175171\tTrain_CLoss: 4.513439655303955\n",
            "WARNING:tensorflow:Gradients do not exist for variables ['Bias:0'] when minimizing the loss. If you're using `model.compile()`, did you forget to provide a `loss`argument?\n"
          ]
        },
        {
          "output_type": "stream",
          "name": "stderr",
          "text": [
            "\r 88%|████████▊ | 21/24 [26:22<03:45, 75.31s/it]"
          ]
        },
        {
          "output_type": "stream",
          "name": "stdout",
          "text": [
            "Train_GLoss: 1.0428357124328613\tTrain_CLoss: 0.3847115933895111\n",
            "WARNING:tensorflow:Gradients do not exist for variables ['Bias:0'] when minimizing the loss. If you're using `model.compile()`, did you forget to provide a `loss`argument?\n"
          ]
        },
        {
          "output_type": "stream",
          "name": "stderr",
          "text": [
            "\r 92%|█████████▏| 22/24 [27:37<02:30, 75.17s/it]"
          ]
        },
        {
          "output_type": "stream",
          "name": "stdout",
          "text": [
            "Train_GLoss: 0.6589013338088989\tTrain_CLoss: 0.5203346014022827\n",
            "WARNING:tensorflow:Gradients do not exist for variables ['Bias:0'] when minimizing the loss. If you're using `model.compile()`, did you forget to provide a `loss`argument?\n"
          ]
        },
        {
          "output_type": "stream",
          "name": "stderr",
          "text": [
            "\r 96%|█████████▌| 23/24 [28:51<01:14, 74.77s/it]"
          ]
        },
        {
          "output_type": "stream",
          "name": "stdout",
          "text": [
            "Train_GLoss: 0.6971887350082397\tTrain_CLoss: 0.7216572761535645\n",
            "WARNING:tensorflow:Gradients do not exist for variables ['Bias:0'] when minimizing the loss. If you're using `model.compile()`, did you forget to provide a `loss`argument?\n"
          ]
        },
        {
          "output_type": "stream",
          "name": "stderr",
          "text": [
            "\r100%|██████████| 24/24 [30:06<00:00, 74.90s/it]"
          ]
        },
        {
          "output_type": "stream",
          "name": "stdout",
          "text": [
            "Train_GLoss: 0.7978122234344482\tTrain_CLoss: -0.39442306756973267\n"
          ]
        },
        {
          "output_type": "stream",
          "name": "stderr",
          "text": [
            "100%|██████████| 24/24 [30:21<00:00, 75.91s/it]\n",
            " 17%|█▋        | 1/6 [00:01<00:07,  1.41s/it]"
          ]
        },
        {
          "output_type": "stream",
          "name": "stdout",
          "text": [
            "Val_GLoss: 1.1516319513320923\n"
          ]
        },
        {
          "output_type": "stream",
          "name": "stderr",
          "text": [
            "\r 33%|███▎      | 2/6 [00:02<00:05,  1.40s/it]"
          ]
        },
        {
          "output_type": "stream",
          "name": "stdout",
          "text": [
            "Val_GLoss: 0.8491569757461548\n"
          ]
        },
        {
          "output_type": "stream",
          "name": "stderr",
          "text": [
            "\r 50%|█████     | 3/6 [00:04<00:04,  1.40s/it]"
          ]
        },
        {
          "output_type": "stream",
          "name": "stdout",
          "text": [
            "Val_GLoss: 0.6387183666229248\n"
          ]
        },
        {
          "output_type": "stream",
          "name": "stderr",
          "text": [
            "\r 67%|██████▋   | 4/6 [00:05<00:02,  1.40s/it]"
          ]
        },
        {
          "output_type": "stream",
          "name": "stdout",
          "text": [
            "Val_GLoss: 0.6734697818756104\n"
          ]
        },
        {
          "output_type": "stream",
          "name": "stderr",
          "text": [
            "\r 83%|████████▎ | 5/6 [00:06<00:01,  1.39s/it]"
          ]
        },
        {
          "output_type": "stream",
          "name": "stdout",
          "text": [
            "Val_GLoss: 0.674925684928894\n"
          ]
        },
        {
          "output_type": "stream",
          "name": "stderr",
          "text": [
            "\r100%|██████████| 6/6 [00:08<00:00,  1.38s/it]"
          ]
        },
        {
          "output_type": "stream",
          "name": "stdout",
          "text": [
            "Val_GLoss: 0.6046205163002014\n"
          ]
        },
        {
          "output_type": "stream",
          "name": "stderr",
          "text": [
            "\r100%|██████████| 6/6 [00:10<00:00,  1.71s/it]"
          ]
        },
        {
          "output_type": "stream",
          "name": "stdout",
          "text": [
            "Epoch: 2\tTrain_GLoss: 0.8235902786254883\tTrain_CLoss: 1.5057567358016968\tVal_GLoss: 0.7654204964637756\n"
          ]
        },
        {
          "output_type": "stream",
          "name": "stderr",
          "text": [
            "\n"
          ]
        }
      ],
      "source": [
        "import tensorflow as tf\n",
        "import os\n",
        "from natsort import natsorted\n",
        "from glob import glob\n",
        "#tqdm est une bibliothèque en Python utilisée pour créer des indicateurs de progression ou des barres de progression\n",
        "from tqdm import tqdm\n",
        "\n",
        "os.environ[\"CUDA_DEVICE_ORDER\"]= \"PCI_BUS_ID\"\n",
        "os.environ[\"CUDA_VISIBLE_DEVICES\"]= '1'\n",
        "\n",
        "if __name__ == '__main__':\n",
        "\tbatch_size   = 16\n",
        "\tlatent_dim   = 96\n",
        "\tK            = 10 # Support\n",
        "\ttrain_path   = natsorted(glob('data/*/train/*.npy'))\n",
        "\tval_path     = natsorted(glob('data/*/test/*.npy'))\n",
        "\tcat_dict     = {} # Category dictionary from class to idx\n",
        "\trev_cat_dict = {} # Category dictionary from idx to class\n",
        "\tfor idx, cat in enumerate(natsorted(glob('data/*'))):\n",
        "\t\tcat_dict[cat.split(os.path.sep)[1]] = idx\n",
        "\t\trev_cat_dict[idx] = cat.split(os.path.sep)[1]\n",
        "\n",
        "\ttrain_batch = load_batch(train_path, batch_size=batch_size)\n",
        "\tval_batch   = load_batch(val_path, batch_size=batch_size)\n",
        "\tmodel       = TreeGAN(K, latent_dim, batch_size)\n",
        "\tgen_opt     = tf.keras.optimizers.Adam(lr=1e-4, beta_1=0.5, beta_2=0.9)\n",
        "\tcritic_opt  = tf.keras.optimizers.Adam(lr=1e-4, beta_1=0.5, beta_2=0.9)\n",
        "\tckpt        = tf.train.Checkpoint(step=tf.Variable(1), model=model, gopt=gen_opt, copt=critic_opt)\n",
        "\tmanager     = tf.train.CheckpointManager(ckpt, directory='treegan_ckpt', max_to_keep=10)\n",
        "\tckpt.restore(manager.latest_checkpoint).expect_partial()\n",
        "\tEPOCHS      = 3\n",
        "\tSTART       = int(ckpt.step) // len(train_batch) + 1\n",
        "\tsave_freq   = 100\n",
        "\ttvis_freq   = 100\n",
        "\tvvis_freq   = 20\n",
        "\tif manager.latest_checkpoint:\n",
        "\t\tprint('Restored from last checkpoint, epoch : {0}'.format(START))\n",
        "\n",
        "\tfor epoch in range(START, EPOCHS):\n",
        "\t\ttrain_gloss = tf.keras.metrics.Mean()\n",
        "\t\ttrain_closs = tf.keras.metrics.Mean()\n",
        "\t\tval_gloss   = tf.keras.metrics.Mean()\n",
        "\n",
        "\t\tfor idx, path in enumerate(tqdm(train_batch), start=1):\n",
        "\t\t\tX, Y = load_data(path, cat_dict)\n",
        "\t\t\tgloss, closs = train_step(model, gen_opt, critic_opt, X, latent_dim, batch_size)\n",
        "\t\t\ttrain_gloss.update_state(gloss)\n",
        "\t\t\ttrain_closs.update_state(closs)\n",
        "\t\t\tckpt.step.assign_add(1)\n",
        "\t\t\tif (idx%save_freq) == 0:\n",
        "\t\t\t\tmanager.save()\n",
        "\t\t\tif (idx%tvis_freq) == 0:\n",
        "\t\t\t\tResultat1 = view_results(model, latent_dim, batch_size, 'train', int(ckpt.step))\n",
        "\t\t\tprint('Train_GLoss: {0}\\tTrain_CLoss: {1}'.format(gloss, closs))\n",
        "\n",
        "\n",
        "\t\tfor idx, path in enumerate(tqdm(val_batch), start=1):\n",
        "\t\t\tX, Y = load_data(path, cat_dict)\n",
        "\t\t\tgloss = val_step(model, X, latent_dim, batch_size)\n",
        "\t\t\tval_gloss.update_state(gloss)\n",
        "\t\t\tif (idx%vvis_freq) == 0:\n",
        "\t\t\t\tResultat2 = view_results(model, latent_dim, batch_size, 'val', int(ckpt.step)+idx)\n",
        "\t\t\tprint('Val_GLoss: {0}'.format(gloss))\n",
        "\n",
        "\t\twith open('log.txt', 'a') as file:\n",
        "\t\t\tfile.write('Epoch: {0}\\tTrain_GLoss: {1}\\tTrain_CLoss: {2}\\tVal_GLoss: {3}\\n'.format(epoch, train_gloss.result(), train_closs.result(), val_gloss.result()))\n",
        "\n",
        "\t\tprint('Epoch: {0}\\tTrain_GLoss: {1}\\tTrain_CLoss: {2}\\tVal_GLoss: {3}'.format(epoch, train_gloss.result(), train_closs.result(), val_gloss.result()))\n"
      ]
    },
    {
      "cell_type": "markdown",
      "source": [
        "#Exportation des nuage de points des données générées "
      ],
      "metadata": {
        "id": "IyAq-dv23Kqx"
      }
    },
    {
      "cell_type": "code",
      "source": [
        "X.shape"
      ],
      "metadata": {
        "colab": {
          "base_uri": "https://localhost:8080/"
        },
        "id": "vJFVoI-8cU1k",
        "outputId": "4a1b607c-52da-4aa0-f067-847487a96765"
      },
      "execution_count": null,
      "outputs": [
        {
          "output_type": "execute_result",
          "data": {
            "text/plain": [
              "TensorShape([16, 2048, 3])"
            ]
          },
          "metadata": {},
          "execution_count": 18
        }
      ]
    },
    {
      "cell_type": "code",
      "source": [
        "points = X[15,:,:]\n",
        "fig = plt.figure(figsize=(8, 6))\n",
        "ax = fig.add_subplot(111, projection=\"3d\")\n",
        "ax.scatter(points[:, 0], points[:, 1], points[:, 2])\n",
        "ax.set_axis_off()\n",
        "plt.show()"
      ],
      "metadata": {
        "colab": {
          "base_uri": "https://localhost:8080/",
          "height": 357
        },
        "id": "2JBr02bFcZQK",
        "outputId": "c8ac1ba1-a300-46f4-d5a7-a08fa459d337"
      },
      "execution_count": null,
      "outputs": [
        {
          "output_type": "display_data",
          "data": {
            "text/plain": [
              "<Figure size 576x432 with 1 Axes>"
            ],
            "image/png": "[encoded data removed]"
          },
          "metadata": {
            "needs_background": "light"
          }
        }
      ]
    },
    {
      "cell_type": "code",
      "source": [
        "import csv\n",
        "import numpy as np\n",
        "fil_name = 'tableGen'\n",
        "with open(fil_name+'.csv', 'w', newline='') as csvfile:\n",
        "    writer = csv.writer(csvfile, delimiter=',')\n",
        "    writer.writerows(X)"
      ],
      "metadata": {
        "id": "eDCcDhIS0BOQ"
      },
      "execution_count": null,
      "outputs": []
    }
  ],
  "metadata": {
    "colab": {
      "provenance": [],
      "collapsed_sections": []
    },
    "kernelspec": {
      "display_name": "Python 3",
      "name": "python3"
    },
    "language_info": {
      "name": "python"
    }
  },
  "nbformat": 4,
  "nbformat_minor": 0
}